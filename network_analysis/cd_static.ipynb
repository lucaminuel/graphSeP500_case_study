{
 "cells": [
  {
   "cell_type": "code",
   "execution_count": 2,
   "metadata": {},
   "outputs": [
    {
     "name": "stdout",
     "output_type": "stream",
     "text": [
      "Note: to be able to use all crisp methods, you need to install some additional packages:  {'leidenalg', 'graph_tool', 'infomap', 'karateclub', 'wurlitzer'}\n",
      "Note: to be able to use all overlapping methods, you need to install some additional packages:  {'ASLPAw', 'karateclub'}\n",
      "Note: to be able to use all bipartite methods, you need to install some additional packages:  {'leidenalg', 'wurlitzer', 'infomap'}\n"
     ]
    }
   ],
   "source": [
    "import numpy as np \n",
    "import networkx as nx\n",
    "import cdlib as cd\n",
    "from cdlib import algorithms, viz\n",
    "from cdlib import evaluation\n",
    "from cdlib import NodeClustering\n",
    "from networkx.generators.community import LFR_benchmark_graph\n",
    "from matplotlib import pyplot as plt"
   ]
  },
  {
   "cell_type": "code",
   "execution_count": 4,
   "metadata": {},
   "outputs": [],
   "source": [
    "tot_pos = nx.read_gpickle('..\\data_collection\\graph\\pos_graph_tot.gpickle')"
   ]
  },
  {
   "cell_type": "code",
   "execution_count": null,
   "metadata": {},
   "outputs": [],
   "source": [
    "#CD label prop\n",
    "coms_lp = algorithms.label_propagation(tot_pos)\n"
   ]
  },
  {
   "cell_type": "code",
   "execution_count": null,
   "metadata": {},
   "outputs": [],
   "source": [
    "#CD  leiden\n",
    "coms_lei = algorithms.leiden(tot_pos)"
   ]
  },
  {
   "cell_type": "code",
   "execution_count": null,
   "metadata": {},
   "outputs": [],
   "source": [
    "#CD girvan_newman\n",
    "coms_GN = algorithms.girvan_newman(tot_pos, level = 30)"
   ]
  },
  {
   "cell_type": "code",
   "execution_count": null,
   "metadata": {},
   "outputs": [],
   "source": [
    "# CD eigenvector\n",
    "coms_eig = algorithms.eigenvector(tot_pos)"
   ]
  },
  {
   "cell_type": "code",
   "execution_count": null,
   "metadata": {},
   "outputs": [],
   "source": [
    "#modularity\n",
    "print(evaluation.newman_girvan_modularity(tot_pos,coms_lp))\n",
    "print(evaluation.newman_girvan_modularity(tot_pos,coms_lei))\n",
    "print(evaluation.newman_girvan_modularity(tot_pos,coms_GN))\n",
    "print(evaluation.newman_girvan_modularity(tot_pos,coms_eig))"
   ]
  },
  {
   "cell_type": "code",
   "execution_count": null,
   "metadata": {},
   "outputs": [],
   "source": [
    "#conductance\n",
    "cond_lp = evaluation.conductance(tot_pos, coms_lp)\n",
    "print(cond_lp)\n",
    "cond_lei = evaluation.conductance(tot_pos, coms_lei, )\n",
    "print(cond_lei)\n",
    "cond_GN = evaluation.conductance(tot_pos, coms_GN)\n",
    "print(cond_GN)\n",
    "cond_eig = evaluation.conductance(tot_pos, coms_eig, summary= False)\n",
    "print(cond_eig)"
   ]
  },
  {
   "cell_type": "code",
   "execution_count": null,
   "metadata": {},
   "outputs": [],
   "source": [
    "#Norm Mut Inf\n",
    "print(evaluation.normalized_mutual_information(coms_lei, coms_eig))\n",
    "\n",
    "print(evaluation.normalized_mutual_information(coms_lei, coms_GN))\n",
    "\n",
    "print(evaluation.normalized_mutual_information(coms_lei, coms_lp))\n",
    "\n",
    "print(evaluation.normalized_mutual_information(coms_GN, coms_eig))\n",
    "\n",
    "print(evaluation.normalized_mutual_information(coms_lp, coms_GN))\n",
    "\n",
    "print(evaluation.normalized_mutual_information(coms_eig, coms_lp))"
   ]
  },
  {
   "cell_type": "code",
   "execution_count": null,
   "metadata": {},
   "outputs": [],
   "source": [
    "pos = nx.spring_layout(tot_pos, k = 0.5)\n",
    "fig1 = plt.figure()\n",
    "viz.plot_network_clusters(tot_pos, coms_eig, pos, figsize=(20, 20), plot_labels=False)"
   ]
  },
  {
   "cell_type": "code",
   "execution_count": null,
   "metadata": {},
   "outputs": [],
   "source": [
    "viz.plot_network_clusters(tot_pos, coms_GN, pos, figsize=(20, 20), plot_labels= False)"
   ]
  },
  {
   "cell_type": "code",
   "execution_count": null,
   "metadata": {},
   "outputs": [],
   "source": [
    "viz.plot_network_clusters(tot_pos, coms_lp, pos, figsize=(20, 20), plot_labels= False)\n",
    "viz.plot_network_clusters(tot_pos, coms_lei, pos, figsize=(20, 20), plot_labels= False)"
   ]
  },
  {
   "cell_type": "code",
   "execution_count": null,
   "metadata": {},
   "outputs": [],
   "source": [
    "\n",
    "viz.plot_community_graph(tot_pos, coms_eig, figsize=(10, 10))\n",
    "viz.plot_community_graph(tot_pos, coms_GN, figsize=(10, 10))\n",
    "viz.plot_community_graph(tot_pos, coms_lp, figsize=(10, 10))\n",
    "viz.plot_community_graph(tot_pos, coms_lei, figsize=(10, 10))\n",
    "#ex post, not so informative"
   ]
  },
  {
   "cell_type": "code",
   "execution_count": null,
   "metadata": {},
   "outputs": [],
   "source": [
    "viz.plot_com_stat([coms_eig, coms_GN, coms_lei], evaluation.internal_edge_density)\n",
    "viz.plot_com_properties_relation([coms_eig, coms_GN, coms_lei], evaluation.size, evaluation.internal_edge_density)\n",
    "viz.plot_sim_matrix([coms_eig, coms_GN, coms_lei, coms_lp], evaluation.adjusted_mutual_information)"
   ]
  },
  {
   "cell_type": "code",
   "execution_count": null,
   "metadata": {},
   "outputs": [],
   "source": [
    "#ground truth eval\n",
    "list_gt = np.load('list_pos_graph_label.npy', allow_pickle = True).item()"
   ]
  },
  {
   "cell_type": "code",
   "execution_count": null,
   "metadata": {},
   "outputs": [],
   "source": [
    "n = list_gt['2022']\n",
    "sector = nx.get_node_attributes(n, 'label')"
   ]
  },
  {
   "cell_type": "code",
   "execution_count": null,
   "metadata": {},
   "outputs": [],
   "source": [
    "\n",
    "communities_GT = []\n",
    "list_health_care = []\n",
    "list_industrial = []\n",
    "list_consumer_discretionary = []\n",
    "list_information_technology = []\n",
    "list_consumer_staples = []\n",
    "list_utilities = []\n",
    "list_financials = []\n",
    "list_materials = []\n",
    "list_real_estate = []\n",
    "list_energy = []\n",
    "list_communication_services = []\n",
    "for x in list_gt[\"2022\"].nodes.data():\n",
    "    if (x[1]['label']  == 'Health Care'):\n",
    "        list_health_care.append(x[0])\n",
    "    elif (x[1]['label']  == 'Industrial'):\n",
    "        list_industrial.append(x[0])\n",
    "    elif (x[1]['label']  == 'Consumer Discretionary'):\n",
    "        list_consumer_discretionary.append(x[0])\n",
    "    elif (x[1]['label']  == 'Information Technology'):\n",
    "        list_information_technology.append(x[0])\n",
    "    elif (x[1]['label']  == 'Consumer Staples'):\n",
    "        list_consumer_staples.append(x[0])\n",
    "    elif (x[1]['label']  == 'Utilities'):\n",
    "        list_utilities.append(x[0])\n",
    "    elif (x[1]['label']  == 'Financials'):\n",
    "        list_financials.append(x[0])\n",
    "    elif (x[1]['label']  == 'Materials'):\n",
    "        list_materials.append(x[0])\n",
    "    elif (x[1]['label']  == 'Real Estate'):\n",
    "        list_real_estate.append(x[0])\n",
    "    elif (x[1]['label']  == 'Energy'):\n",
    "        list_energy.append(x[0])\n",
    "    else: # elif (x[1]['label']  == 'Communication_services'):\n",
    "        list_communication_services.append(x[0])\n",
    "\n",
    "communities_GT = [list_communication_services, list_consumer_discretionary, list_utilities, list_financials, list_consumer_staples, list_energy, list_health_care, list_industrial, list_information_technology, list_materials, list_real_estate]\n",
    "\n",
    "coms_GT = NodeClustering(communities_GT, graph=list_gt[\"2022\"], method_name=\"Ground Truth\")"
   ]
  },
  {
   "cell_type": "code",
   "execution_count": null,
   "metadata": {},
   "outputs": [],
   "source": [
    "#eval \n",
    "evaluation.adjusted_mutual_information(coms_eig,coms_GT)"
   ]
  },
  {
   "cell_type": "code",
   "execution_count": null,
   "metadata": {},
   "outputs": [],
   "source": [
    "evaluation.adjusted_mutual_information(coms_GN,coms_GT)"
   ]
  },
  {
   "cell_type": "code",
   "execution_count": null,
   "metadata": {},
   "outputs": [],
   "source": [
    "evaluation.adjusted_mutual_information(coms_lei,coms_GT)\n",
    "evaluation.adjusted_mutual_information(coms_lp,coms_GT)"
   ]
  }
 ],
 "metadata": {
  "kernelspec": {
   "display_name": "Python 3.10.6 64-bit",
   "language": "python",
   "name": "python3"
  },
  "language_info": {
   "codemirror_mode": {
    "name": "ipython",
    "version": 3
   },
   "file_extension": ".py",
   "mimetype": "text/x-python",
   "name": "python",
   "nbconvert_exporter": "python",
   "pygments_lexer": "ipython3",
   "version": "3.10.6"
  },
  "orig_nbformat": 4,
  "vscode": {
   "interpreter": {
    "hash": "e51fdbc37c5adaa12a9ed97b50fdaf0ff46be7ee1a114cc405b6eaf0c36d1bf8"
   }
  }
 },
 "nbformat": 4,
 "nbformat_minor": 2
}
